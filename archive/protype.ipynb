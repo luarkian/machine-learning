{
 "cells": [
  {
   "cell_type": "code",
   "execution_count": 152,
   "metadata": {},
   "outputs": [],
   "source": [
    "import pandas as pd\n",
    "import numpy as np\n",
    "from sklearn import preprocessing\n"
   ]
  },
  {
   "cell_type": "code",
   "execution_count": 153,
   "metadata": {},
   "outputs": [],
   "source": [
    "t_0910 = pd.read_csv('season-0910.csv',  header = [0])\n",
    "t_1011 = pd.read_csv('season-1011.csv')\n",
    "t_1112 = pd.read_csv('season-1112.csv')\n",
    "t_1213 = pd.read_csv('season-1213.csv')\n",
    "t_1314 = pd.read_csv('season-1314.csv')\n",
    "t_1415 = pd.read_csv('season-1415.csv')\n",
    "t_1516 = pd.read_csv('season-1516.csv')\n",
    "t_1617 = pd.read_csv('season-1617.csv')\n",
    "t_1718 = pd.read_csv('season-1718.csv')\n",
    "t_1819 = pd.read_csv('season-1819.csv')\n"
   ]
  },
  {
   "cell_type": "code",
   "execution_count": 154,
   "metadata": {
    "scrolled": true
   },
   "outputs": [],
   "source": [
    "all_t = pd.concat([t_0910,t_1011,t_1112,t_1213,t_1314,t_1415,t_1516,t_1617])\n"
   ]
  },
  {
   "cell_type": "code",
   "execution_count": 155,
   "metadata": {},
   "outputs": [],
   "source": [
    "times = pd.Series([\"Man City\",\"Liverpool\",\"Chelsea\",\"Tottenham\" ,\"Man United\",\"Arsenal\",\"Everton\",\"Leicester\",\"West Ham\",\"Crystal Palace\",\"Bournemouth\",\"Fulham\",\"Wolves\",\"Southampton\",\"Newcastle\",\"Watford\",\"Brighton\",\"Burnley\",\"Cardiff\",\"Norwich\",\"QPR\",\"Huddersfield\",\"Wigan\",\"Birmingham\",\"Blackburn\",\"Reading\",\"Bolton\",\"Portsmouth\",\"Blackpool\",\"Aston Villa\",\"Hull\",\"West Brom\",\"Stoke\",\"Swansea\",\"Sunderland\",\"Middlesbrough\"])\n"
   ]
  },
  {
   "cell_type": "code",
   "execution_count": null,
   "metadata": {},
   "outputs": [],
   "source": []
  },
  {
   "cell_type": "code",
   "execution_count": 156,
   "metadata": {
    "scrolled": true
   },
   "outputs": [],
   "source": [
    "r_0910 = pd.read_csv('r_0910.csv',encoding = 'unicode_escape') #string tem um caracter não ascii codificado nela.\n",
    "r_1011 = pd.read_csv('r_1011.csv',encoding = 'unicode_escape') #string tem um caracter não ascii codificado nela.\n",
    "r_1112 = pd.read_csv('r_1112.csv',encoding = 'unicode_escape') #string tem um caracter não ascii codificado nela.\n",
    "r_1213 = pd.read_csv('r_1213.csv',encoding = 'unicode_escape') #string tem um caracter não ascii codificado nela.\n",
    "r_1314 = pd.read_csv('r_1314.csv',encoding = 'unicode_escape') #string tem um caracter não ascii codificado nela.\n",
    "r_1415 = pd.read_csv('r_1415.csv',encoding = 'unicode_escape') #string tem um caracter não ascii codificado nela.\n",
    "r_1516 = pd.read_csv('r_1516.csv',encoding = 'unicode_escape') #string tem um caracter não ascii codificado nela.\n",
    "r_1617 = pd.read_csv('r_1617.csv',encoding = 'unicode_escape') #string tem um caracter não ascii codificado nela.\n",
    "r_1718 = pd.read_csv('r_1718.csv',encoding = 'unicode_escape') #string tem um caracter não ascii codificado nela.\n",
    "r_1819 = pd.read_csv('r_1819.csv',encoding = 'unicode_escape') #string tem um caracter não ascii codificado nela."
   ]
  },
  {
   "cell_type": "code",
   "execution_count": 157,
   "metadata": {},
   "outputs": [],
   "source": [
    "#df2 = pd.read_csv('season-1011.csv', sep=',') \n",
    "le2 = preprocessing.LabelEncoder()\n",
    "\n",
    "t_0910['HomeTeam'] = le2.fit_transform(t_0910.HomeTeam.values)\n",
    "t_0910['AwayTeam'] = le2.fit_transform(t_0910.AwayTeam.values)\n",
    "r_0910['Clubes'] = le2.fit_transform(r_0910.Clubes.values)\n",
    "\n",
    "#le2 = preprocessing.LabelEncoder()\n",
    "t_1011['HomeTeam'] = le2.fit_transform(t_1011.HomeTeam.values)\n",
    "t_1011['AwayTeam'] = le2.fit_transform(t_1011.AwayTeam.values)\n",
    "r_1011['Clubes'] = le2.fit_transform(r_1011.Clubes.values)\n",
    "\n",
    "\n",
    "t_1112['HomeTeam'] = le2.fit_transform(t_1112.HomeTeam.values)\n",
    "t_1112['AwayTeam'] = le2.fit_transform(t_1112.AwayTeam.values)\n",
    "r_1112['Clubes'] = le2.fit_transform(r_1112.Clubes.values)\n",
    "\n",
    "\n",
    "t_1213['HomeTeam'] = le2.fit_transform(t_1213.HomeTeam.values)\n",
    "t_1213['AwayTeam'] = le2.fit_transform(t_1213.AwayTeam.values)\n",
    "r_1213['Clubes'] = le2.fit_transform(r_1213.Clubes.values)\n",
    "\n",
    "\n",
    "t_1314['HomeTeam'] = le2.fit_transform(t_1314.HomeTeam.values)\n",
    "t_1314['AwayTeam'] = le2.fit_transform(t_1314.AwayTeam.values)\n",
    "r_1314['Clubes'] = le2.fit_transform(r_1314.Clubes.values)\n",
    "\n",
    "\n",
    "t_1415['HomeTeam'] = le2.fit_transform(t_1415.HomeTeam.values)\n",
    "t_1415['AwayTeam'] = le2.fit_transform(t_1415.AwayTeam.values)\n",
    "r_1415['Clubes'] = le2.fit_transform(r_1415.Clubes.values)\n",
    "\n",
    "\n",
    "t_1516['HomeTeam'] = le2.fit_transform(t_1516.HomeTeam.values)\n",
    "t_1516['AwayTeam'] = le2.fit_transform(t_1516.AwayTeam.values)\n",
    "r_1516['Clubes'] = le2.fit_transform(r_1516.Clubes.values)\n",
    "\n",
    "\n",
    "t_1617['HomeTeam'] = le2.fit_transform(t_1617.HomeTeam.values)\n",
    "t_1617['AwayTeam'] = le2.fit_transform(t_1617.AwayTeam.values)\n",
    "r_1617['Clubes'] = le2.fit_transform(r_1617.Clubes.values)\n",
    "\n",
    "\n",
    "t_1718['HomeTeam'] = le2.fit_transform(t_1718.HomeTeam.values)\n",
    "t_1718['AwayTeam'] = le2.fit_transform(t_1718.AwayTeam.values)\n",
    "r_1718['Clubes'] = le2.fit_transform(r_1718.Clubes.values)\n",
    "\n",
    "\n",
    "t_1819['HomeTeam'] = le2.fit_transform(t_1819.HomeTeam.values)\n",
    "t_1819['AwayTeam'] = le2.fit_transform(t_1819.AwayTeam.values)\n",
    "r_1819['Clubes'] = le2.fit_transform(r_1819.Clubes.values)\n"
   ]
  },
  {
   "cell_type": "code",
   "execution_count": 158,
   "metadata": {},
   "outputs": [
    {
     "data": {
      "text/plain": [
       "Index(['Date', 'HomeTeam', 'AwayTeam', 'FTHG', 'FTAG', 'FTR', 'HTHG', 'HTAG',\n",
       "       'HTR', 'Referee', 'HS', 'AS', 'HST', 'AST', 'HF', 'AF', 'HC', 'AC',\n",
       "       'HY', 'AY', 'HR', 'AR', '#', 'Clubes', 'Despesas', 'Entradas',\n",
       "       'Receitas', 'Sai­das', 'Saldo'],\n",
       "      dtype='object')"
      ]
     },
     "execution_count": 158,
     "metadata": {},
     "output_type": "execute_result"
    }
   ],
   "source": [
    "tr_0910 = t_0910.merge(r_0910, left_on='HomeTeam', right_on='Clubes', suffixes=(False, False))\n",
    "tr_1011 = t_1011.merge(r_1011, left_on='HomeTeam', right_on='Clubes', suffixes=(False, False))\n",
    "tr_1112 = t_1112.merge(r_1112, left_on='HomeTeam', right_on='Clubes', suffixes=(False, False))\n",
    "tr_1213 = t_1213.merge(r_1213, left_on='HomeTeam', right_on='Clubes', suffixes=(False, False))\n",
    "tr_1314 = t_1314.merge(r_1314, left_on='HomeTeam', right_on='Clubes', suffixes=(False, False))\n",
    "tr_1415 = t_1415.merge(r_1415, left_on='HomeTeam', right_on='Clubes', suffixes=(False, False))\n",
    "tr_1516 = t_1516.merge(r_1516, left_on='HomeTeam', right_on='Clubes', suffixes=(False, False))\n",
    "tr_1617 = t_1617.merge(r_1617, left_on='HomeTeam', right_on='Clubes', suffixes=(False, False))\n",
    "tr_1718 = t_1718.merge(r_1718, left_on='HomeTeam', right_on='Clubes', suffixes=(False, False))\n",
    "tr_1819 = t_1819.merge(r_1819, left_on='HomeTeam', right_on='Clubes', suffixes=(False, False))\n",
    "tr_0910.columns"
   ]
  },
  {
   "cell_type": "code",
   "execution_count": 177,
   "metadata": {},
   "outputs": [
    {
     "data": {
      "text/plain": [
       "Index(['Date', 'HomeTeam', 'AwayTeam', 'FTHG', 'FTAG', 'FTR', 'HTHG', 'HTAG',\n",
       "       'HTR', 'Referee', 'HS', 'AS', 'HST', 'AST', 'HF', 'AF', 'HC', 'AC',\n",
       "       'HY', 'AY', 'HR', 'AR', '#1', 'Clubes1', 'HDespesas', 'HEntradas',\n",
       "       'HReceitas', 'HSaidas', 'HSaldo'],\n",
       "      dtype='object')"
      ]
     },
     "execution_count": 177,
     "metadata": {},
     "output_type": "execute_result"
    }
   ],
   "source": [
    "#all = all.rename(columns={'Despesas': 'HDespesas', 'Entradas': 'HEntradas','Receitas':'HReceitas','Sai­das':'HSaidas','Saldo':'HSaldo'})\n",
    "\n",
    "tr_0910 = tr_0910.rename(columns={'#':'#1','Clubes':'Clubes1','Despesas': 'HDespesas', 'Entradas': 'HEntradas','Receitas':'HReceitas','Sai­das':'HSaidas','Saldo':'HSaldo'})\n",
    "tr_1011 = tr_1011.rename(columns={'#':'#1','Clubes':'Clubes1','Despesas': 'HDespesas', 'Entradas': 'HEntradas','Receitas':'HReceitas','Sai­das':'HSaidas','Saldo':'HSaldo'})\n",
    "tr_1112 = tr_1112.rename(columns={'#':'#1','Clubes':'Clubes1','Despesas': 'HDespesas', 'Entradas': 'HEntradas','Receitas':'HReceitas','Sai­das':'HSaidas','Saldo':'HSaldo'})\n",
    "tr_1213 = tr_1213.rename(columns={'#':'#1','Clubes':'Clubes1','Despesas': 'HDespesas', 'Entradas': 'HEntradas','Receitas':'HReceitas','Sai­das':'HSaidas','Saldo':'HSaldo'})\n",
    "tr_1314 = tr_1314.rename(columns={'#':'#1','Clubes':'Clubes1','Despesas': 'HDespesas', 'Entradas': 'HEntradas','Receitas':'HReceitas','Saidas':'HSaidas','Saldo':'HSaldo'})\n",
    "tr_1415 = tr_1415.rename(columns={'#':'#1','Clubes':'Clubes1','Despesas': 'HDespesas', 'Entradas': 'HEntradas','Receitas':'HReceitas','Saidas':'HSaidas','Saldo':'HSaldo'})\n",
    "tr_1516 = tr_1516.rename(columns={'#':'#1','Clubes':'Clubes1','Despesas': 'HDespesas', 'Entradas': 'HEntradas','Receitas':'HReceitas','Sai­das':'HSaidas','Saldo':'HSaldo'})\n",
    "tr_1617 = tr_1617.rename(columns={'#':'#1','Clubes':'Clubes1','Despesas': 'HDespesas', 'Entradas': 'HEntradas','Receitas':'HReceitas','Saidas':'HSaidas','Saldo':'HSaldo'})\n",
    "tr_1718 = tr_1718.rename(columns={'#':'#1','Clubes':'Clubes1','Despesas': 'HDespesas', 'Entradas': 'HEntradas','Receitas':'HReceitas','Sai­das':'HSaidas','Saldo':'HSaldo'})\n",
    "tr_1819 = tr_1819.rename(columns={'#':'#1','Clubes':'Clubes1','Despesas': 'HDespesas', 'Entradas': 'HEntradas','Receitas':'HReceitas','Saidas':'HSaidas','Saldo':'HSaldo'})\n",
    "\n",
    "tr_0910.columns"
   ]
  },
  {
   "cell_type": "code",
   "execution_count": 191,
   "metadata": {},
   "outputs": [
    {
     "data": {
      "text/plain": [
       "Index(['Date', 'HomeTeam', 'AwayTeam', 'FTHG', 'FTAG', 'FTR', 'HTHG', 'HTAG',\n",
       "       'HTR', 'Referee', 'HS', 'AS', 'HST', 'AST', 'HF', 'AF', 'HC', 'AC',\n",
       "       'HY', 'AY', 'HR', 'AR', '#1', 'Clubes1', 'HDespesas', 'HEntradas',\n",
       "       'HReceitas', 'HSaidas', 'HSaldo', '#', 'Clubes', 'Despesas', 'Entradas',\n",
       "       'Receitas', 'Sai­das', 'Saldo'],\n",
       "      dtype='object')"
      ]
     },
     "execution_count": 191,
     "metadata": {},
     "output_type": "execute_result"
    }
   ],
   "source": [
    "tr_0910.columns"
   ]
  },
  {
   "cell_type": "code",
   "execution_count": 181,
   "metadata": {},
   "outputs": [
    {
     "data": {
      "text/plain": [
       "Index(['Date', 'HomeTeam', 'AwayTeam', 'FTHG', 'FTAG', 'FTR', 'HTHG', 'HTAG',\n",
       "       'HTR', 'Referee', 'HS', 'AS', 'HST', 'AST', 'HF', 'AF', 'HC', 'AC',\n",
       "       'HY', 'AY', 'HR', 'AR', '#1', 'Clubes1', 'HDespesas', 'HEntradas',\n",
       "       'HReceitas', 'HSaidas', 'HSaldo'],\n",
       "      dtype='object')"
      ]
     },
     "execution_count": 181,
     "metadata": {},
     "output_type": "execute_result"
    }
   ],
   "source": [
    "\n",
    "#tr_0910.drop('#',axis= 1)\n",
    "#tr_1011.drop('#',axis = 1)\n",
    "#tr_1112.drop('#',axis = 1)\n",
    "#tr_1213.drop('#',axis = 1)\n",
    "#tr_1314.drop('#',axis = 1)\n",
    "#tr_1415.drop('#',axis = 1)\n",
    "#tr_1516.drop('#',axis = 1)\n",
    "#tr_1617.drop('#',axis = 1)\n",
    "#tr_1718.drop('#',axis = 1)\n",
    "#tr_1819.drop('#',axis = 1)\n",
    "\n",
    "#tr_0910.drop('Clubes',axis= 1)\n",
    "#tr_1011.drop('Clubes',axis = 1)\n",
    "#tr_1112.drop('Clubes',axis = 1)\n",
    "#tr_1213.drop('Clubes',axis = 1)\n",
    "#tr_1314.drop('Clubes',axis = 1)\n",
    "#tr_1415.drop('Clubes',axis = 1)\n",
    "#tr_1516.drop('Clubes',axis = 1)\n",
    "#tr_1617.drop('Clubes',axis = 1)\n",
    "#tr_1718.drop('Clubes',axis = 1)\n",
    "#tr_1819.drop('Clubes',axis = 1)\n",
    "\n",
    "tr_1011.columns"
   ]
  },
  {
   "cell_type": "code",
   "execution_count": 180,
   "metadata": {},
   "outputs": [
    {
     "ename": "ValueError",
     "evalue": "columns overlap but no suffix specified: Index(['#', 'Clubes', 'Despesas', 'Entradas', 'Receitas', 'Sai­das', 'Saldo'], dtype='object')",
     "output_type": "error",
     "traceback": [
      "\u001b[1;31m---------------------------------------------------------------------------\u001b[0m",
      "\u001b[1;31mValueError\u001b[0m                                Traceback (most recent call last)",
      "\u001b[1;32m<ipython-input-180-a257443487a4>\u001b[0m in \u001b[0;36m<module>\u001b[1;34m\u001b[0m\n\u001b[1;32m----> 1\u001b[1;33m \u001b[0mtr_0910\u001b[0m \u001b[1;33m=\u001b[0m \u001b[0mtr_0910\u001b[0m\u001b[1;33m.\u001b[0m\u001b[0mmerge\u001b[0m\u001b[1;33m(\u001b[0m\u001b[0mr_0910\u001b[0m\u001b[1;33m,\u001b[0m \u001b[0mleft_on\u001b[0m\u001b[1;33m=\u001b[0m\u001b[1;34m'AwayTeam'\u001b[0m\u001b[1;33m,\u001b[0m \u001b[0mright_on\u001b[0m\u001b[1;33m=\u001b[0m\u001b[1;34m'Clubes'\u001b[0m\u001b[1;33m,\u001b[0m \u001b[0msuffixes\u001b[0m\u001b[1;33m=\u001b[0m\u001b[1;33m(\u001b[0m\u001b[1;32mFalse\u001b[0m\u001b[1;33m,\u001b[0m \u001b[1;32mFalse\u001b[0m\u001b[1;33m)\u001b[0m\u001b[1;33m)\u001b[0m\u001b[1;33m\u001b[0m\u001b[1;33m\u001b[0m\u001b[0m\n\u001b[0m",
      "\u001b[1;32mc:\\users\\luarkian\\appdata\\local\\programs\\python\\python37\\lib\\site-packages\\pandas\\core\\frame.py\u001b[0m in \u001b[0;36mmerge\u001b[1;34m(self, right, how, on, left_on, right_on, left_index, right_index, sort, suffixes, copy, indicator, validate)\u001b[0m\n\u001b[0;32m   6866\u001b[0m                      \u001b[0mright_on\u001b[0m\u001b[1;33m=\u001b[0m\u001b[0mright_on\u001b[0m\u001b[1;33m,\u001b[0m \u001b[0mleft_index\u001b[0m\u001b[1;33m=\u001b[0m\u001b[0mleft_index\u001b[0m\u001b[1;33m,\u001b[0m\u001b[1;33m\u001b[0m\u001b[1;33m\u001b[0m\u001b[0m\n\u001b[0;32m   6867\u001b[0m                      \u001b[0mright_index\u001b[0m\u001b[1;33m=\u001b[0m\u001b[0mright_index\u001b[0m\u001b[1;33m,\u001b[0m \u001b[0msort\u001b[0m\u001b[1;33m=\u001b[0m\u001b[0msort\u001b[0m\u001b[1;33m,\u001b[0m \u001b[0msuffixes\u001b[0m\u001b[1;33m=\u001b[0m\u001b[0msuffixes\u001b[0m\u001b[1;33m,\u001b[0m\u001b[1;33m\u001b[0m\u001b[1;33m\u001b[0m\u001b[0m\n\u001b[1;32m-> 6868\u001b[1;33m                      copy=copy, indicator=indicator, validate=validate)\n\u001b[0m\u001b[0;32m   6869\u001b[0m \u001b[1;33m\u001b[0m\u001b[0m\n\u001b[0;32m   6870\u001b[0m     \u001b[1;32mdef\u001b[0m \u001b[0mround\u001b[0m\u001b[1;33m(\u001b[0m\u001b[0mself\u001b[0m\u001b[1;33m,\u001b[0m \u001b[0mdecimals\u001b[0m\u001b[1;33m=\u001b[0m\u001b[1;36m0\u001b[0m\u001b[1;33m,\u001b[0m \u001b[1;33m*\u001b[0m\u001b[0margs\u001b[0m\u001b[1;33m,\u001b[0m \u001b[1;33m**\u001b[0m\u001b[0mkwargs\u001b[0m\u001b[1;33m)\u001b[0m\u001b[1;33m:\u001b[0m\u001b[1;33m\u001b[0m\u001b[1;33m\u001b[0m\u001b[0m\n",
      "\u001b[1;32mc:\\users\\luarkian\\appdata\\local\\programs\\python\\python37\\lib\\site-packages\\pandas\\core\\reshape\\merge.py\u001b[0m in \u001b[0;36mmerge\u001b[1;34m(left, right, how, on, left_on, right_on, left_index, right_index, sort, suffixes, copy, indicator, validate)\u001b[0m\n\u001b[0;32m     46\u001b[0m                          \u001b[0mcopy\u001b[0m\u001b[1;33m=\u001b[0m\u001b[0mcopy\u001b[0m\u001b[1;33m,\u001b[0m \u001b[0mindicator\u001b[0m\u001b[1;33m=\u001b[0m\u001b[0mindicator\u001b[0m\u001b[1;33m,\u001b[0m\u001b[1;33m\u001b[0m\u001b[1;33m\u001b[0m\u001b[0m\n\u001b[0;32m     47\u001b[0m                          validate=validate)\n\u001b[1;32m---> 48\u001b[1;33m     \u001b[1;32mreturn\u001b[0m \u001b[0mop\u001b[0m\u001b[1;33m.\u001b[0m\u001b[0mget_result\u001b[0m\u001b[1;33m(\u001b[0m\u001b[1;33m)\u001b[0m\u001b[1;33m\u001b[0m\u001b[1;33m\u001b[0m\u001b[0m\n\u001b[0m\u001b[0;32m     49\u001b[0m \u001b[1;33m\u001b[0m\u001b[0m\n\u001b[0;32m     50\u001b[0m \u001b[1;33m\u001b[0m\u001b[0m\n",
      "\u001b[1;32mc:\\users\\luarkian\\appdata\\local\\programs\\python\\python37\\lib\\site-packages\\pandas\\core\\reshape\\merge.py\u001b[0m in \u001b[0;36mget_result\u001b[1;34m(self)\u001b[0m\n\u001b[0;32m    550\u001b[0m \u001b[1;33m\u001b[0m\u001b[0m\n\u001b[0;32m    551\u001b[0m         llabels, rlabels = items_overlap_with_suffix(ldata.items, lsuf,\n\u001b[1;32m--> 552\u001b[1;33m                                                      rdata.items, rsuf)\n\u001b[0m\u001b[0;32m    553\u001b[0m \u001b[1;33m\u001b[0m\u001b[0m\n\u001b[0;32m    554\u001b[0m         \u001b[0mlindexers\u001b[0m \u001b[1;33m=\u001b[0m \u001b[1;33m{\u001b[0m\u001b[1;36m1\u001b[0m\u001b[1;33m:\u001b[0m \u001b[0mleft_indexer\u001b[0m\u001b[1;33m}\u001b[0m \u001b[1;32mif\u001b[0m \u001b[0mleft_indexer\u001b[0m \u001b[1;32mis\u001b[0m \u001b[1;32mnot\u001b[0m \u001b[1;32mNone\u001b[0m \u001b[1;32melse\u001b[0m \u001b[1;33m{\u001b[0m\u001b[1;33m}\u001b[0m\u001b[1;33m\u001b[0m\u001b[1;33m\u001b[0m\u001b[0m\n",
      "\u001b[1;32mc:\\users\\luarkian\\appdata\\local\\programs\\python\\python37\\lib\\site-packages\\pandas\\core\\internals\\managers.py\u001b[0m in \u001b[0;36mitems_overlap_with_suffix\u001b[1;34m(left, lsuffix, right, rsuffix)\u001b[0m\n\u001b[0;32m   1970\u001b[0m         \u001b[1;32mif\u001b[0m \u001b[1;32mnot\u001b[0m \u001b[0mlsuffix\u001b[0m \u001b[1;32mand\u001b[0m \u001b[1;32mnot\u001b[0m \u001b[0mrsuffix\u001b[0m\u001b[1;33m:\u001b[0m\u001b[1;33m\u001b[0m\u001b[1;33m\u001b[0m\u001b[0m\n\u001b[0;32m   1971\u001b[0m             raise ValueError('columns overlap but no suffix specified: '\n\u001b[1;32m-> 1972\u001b[1;33m                              '{rename}'.format(rename=to_rename))\n\u001b[0m\u001b[0;32m   1973\u001b[0m \u001b[1;33m\u001b[0m\u001b[0m\n\u001b[0;32m   1974\u001b[0m         \u001b[1;32mdef\u001b[0m \u001b[0mlrenamer\u001b[0m\u001b[1;33m(\u001b[0m\u001b[0mx\u001b[0m\u001b[1;33m)\u001b[0m\u001b[1;33m:\u001b[0m\u001b[1;33m\u001b[0m\u001b[1;33m\u001b[0m\u001b[0m\n",
      "\u001b[1;31mValueError\u001b[0m: columns overlap but no suffix specified: Index(['#', 'Clubes', 'Despesas', 'Entradas', 'Receitas', 'Sai­das', 'Saldo'], dtype='object')"
     ]
    }
   ],
   "source": [
    "tr_0910 = tr_0910.merge(r_0910, left_on='AwayTeam', right_on='Clubes', suffixes=(False, False))\n"
   ]
  },
  {
   "cell_type": "code",
   "execution_count": 134,
   "metadata": {},
   "outputs": [
    {
     "data": {
      "text/plain": [
       "0     30\n",
       "1     16\n",
       "2     16\n",
       "3     19\n",
       "4     47\n",
       "5     15\n",
       "6     25\n",
       "7     17\n",
       "8     27\n",
       "9     10\n",
       "10    14\n",
       "11    21\n",
       "12    19\n",
       "13    23\n",
       "14    18\n",
       "15    19\n",
       "16    11\n",
       "17    23\n",
       "18    18\n",
       "19     4\n",
       "Name: Saidas, dtype: int64"
      ]
     },
     "execution_count": 134,
     "metadata": {},
     "output_type": "execute_result"
    }
   ],
   "source": []
  },
  {
   "cell_type": "code",
   "execution_count": null,
   "metadata": {},
   "outputs": [],
   "source": []
  },
  {
   "cell_type": "code",
   "execution_count": null,
   "metadata": {},
   "outputs": [],
   "source": []
  }
 ],
 "metadata": {
  "kernelspec": {
   "display_name": "Python 3",
   "language": "python",
   "name": "python3"
  },
  "language_info": {
   "codemirror_mode": {
    "name": "ipython",
    "version": 3
   },
   "file_extension": ".py",
   "mimetype": "text/x-python",
   "name": "python",
   "nbconvert_exporter": "python",
   "pygments_lexer": "ipython3",
   "version": "3.7.3"
  }
 },
 "nbformat": 4,
 "nbformat_minor": 2
}
